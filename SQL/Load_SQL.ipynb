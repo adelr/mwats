{
 "cells": [
  {
   "cell_type": "markdown",
   "metadata": {},
   "source": [
    "<h1 style=\"font-family:Impact,Arial;font-size:50px\">Load SQL</h1>\n",
    "<p> This code loads the raw data from the VAST database. It uses a PSQL connection to pull the raw tables and columns, it then joins and converts the tables to usable format in Pandas in conjunction with the scripts in git. "
   ]
  },
  {
   "cell_type": "code",
   "execution_count": 13,
   "metadata": {},
   "outputs": [],
   "source": [
    "import math\n",
    "import pandas as pd\n",
    "import numpy as np\n",
    "import psycopg2 as pg\n",
    "import pandas.io.sql as psql"
   ]
  },
  {
   "cell_type": "code",
   "execution_count": 14,
   "metadata": {},
   "outputs": [],
   "source": [
    "# get connected to the database\n",
    "connection = pg.connect(\"dbname=postgres user=postgres password=sqg4179eq\")"
   ]
  },
  {
   "cell_type": "code",
   "execution_count": 15,
   "metadata": {},
   "outputs": [
    {
     "name": "stdout",
     "output_type": "stream",
     "text": [
      "CPU times: user 63.6 ms, sys: 24.4 ms, total: 87.9 ms\n",
      "Wall time: 733 ms\n"
     ]
    }
   ],
   "source": [
    "%%time\n",
    "image_table = psql.read_sql(\"SELECT id, rms, time, jd, cube_id, ra, dec FROM vast_image\", connection)\n",
    "image_table.columns = (['image_id', 'rms', 'time', 'jd', 'cube_id', 'im_ra', 'im_dec'])"
   ]
  },
  {
   "cell_type": "code",
   "execution_count": 16,
   "metadata": {},
   "outputs": [
    {
     "name": "stdout",
     "output_type": "stream",
     "text": [
      "CPU times: user 2min 54s, sys: 5min 13s, total: 8min 8s\n",
      "Wall time: 17min 8s\n"
     ]
    }
   ],
   "source": [
    "%%time\n",
    "dataframe = psql.read_sql('SELECT id, source_id, image_id, good_fit, ra, err_ra, dec, err_dec, bmaj, bmin, pa, raw_total_flux, err_raw_total_flux, raw_peak_flux, err_raw_peak_flux FROM vast_flux', connection)"
   ]
  },
  {
   "cell_type": "code",
   "execution_count": 17,
   "metadata": {},
   "outputs": [
    {
     "name": "stdout",
     "output_type": "stream",
     "text": [
      "CPU times: user 13.8 s, sys: 8.4 s, total: 22.2 s\n",
      "Wall time: 24.3 s\n"
     ]
    }
   ],
   "source": [
    "%%time\n",
    "raw_data = (pd.merge(dataframe, image_table, left_on='image_id', right_on='image_id'))"
   ]
  },
  {
   "cell_type": "code",
   "execution_count": 18,
   "metadata": {},
   "outputs": [],
   "source": [
    "def vectorized_distance_on_unit_sphere(df):\n",
    "    degrees_to_radians = np.pi/180.0\n",
    "    phi1 = df.ra*degrees_to_radians\n",
    "    phi2 = df.im_ra*degrees_to_radians\n",
    "\n",
    "    theta1 = df.dec*degrees_to_radians\n",
    "    theta2 = df.im_dec*degrees_to_radians\n",
    "    \n",
    "    cosine = (np.cos(phi1)*np.cos(phi2)*np.cos(theta1 - theta2) +\n",
    "           np.sin(phi1)*np.sin(phi2))\n",
    "    dist_from_centre = np.arccos(cosine)\n",
    "    return (dist_from_centre/3.142)*180"
   ]
  },
  {
   "cell_type": "markdown",
   "metadata": {},
   "source": [
    "## Conversions"
   ]
  },
  {
   "cell_type": "code",
   "execution_count": 19,
   "metadata": {},
   "outputs": [],
   "source": [
    "raw_data['raw_peak_flux'] = raw_data['raw_peak_flux']*(1.0/1000.0) # Conversion to Jy\n",
    "raw_data['err_raw_peak_flux'] = raw_data['err_raw_peak_flux']*(1.0/1000.0) # Conversion to Jy\n",
    "raw_data['datetime'] = pd.to_datetime(raw_data.time, utc=True)"
   ]
  },
  {
   "cell_type": "markdown",
   "metadata": {},
   "source": [
    "## Calculate the distance between the source and the image centre ( then create column)"
   ]
  },
  {
   "cell_type": "code",
   "execution_count": 20,
   "metadata": {},
   "outputs": [
    {
     "name": "stdout",
     "output_type": "stream",
     "text": [
      "CPU times: user 1.84 s, sys: 2.82 s, total: 4.66 s\n",
      "Wall time: 3.33 s\n"
     ]
    }
   ],
   "source": [
    "%%time\n",
    "raw_data['distance'] = vectorized_distance_on_unit_sphere(raw_data)"
   ]
  },
  {
   "cell_type": "markdown",
   "metadata": {},
   "source": [
    "## Add in the gains to the data file"
   ]
  },
  {
   "cell_type": "code",
   "execution_count": 21,
   "metadata": {},
   "outputs": [],
   "source": [
    "# SORT OUT LATER\n",
    "#%%time\n",
    "#gains = pd.read_table('../all_gains.txt', ',')\n",
    "#raw_data = pd.merge(raw_data, gains, left_on='Image', right_on='Image')"
   ]
  },
  {
   "cell_type": "markdown",
   "metadata": {},
   "source": [
    "## Filter good fits only"
   ]
  },
  {
   "cell_type": "code",
   "execution_count": 22,
   "metadata": {},
   "outputs": [],
   "source": [
    "raw_data = raw_data[raw_data.good_fit == True]"
   ]
  },
  {
   "cell_type": "markdown",
   "metadata": {},
   "source": [
    "## Save the reduced data file"
   ]
  },
  {
   "cell_type": "code",
   "execution_count": 26,
   "metadata": {},
   "outputs": [
    {
     "name": "stdout",
     "output_type": "stream",
     "text": [
      "CPU times: user 7.22 s, sys: 13.9 s, total: 21.1 s\n",
      "Wall time: 19.2 s\n"
     ]
    }
   ],
   "source": [
    "%%time\n",
    "# Parq moaned about my datetime column - ask Adel\n",
    "raw_data= raw_data.reset_index()\n",
    "raw_data.to_feather('mwats_raw_data_Feb_SQL.fth')"
   ]
  },
  {
   "cell_type": "code",
   "execution_count": null,
   "metadata": {},
   "outputs": [],
   "source": []
  },
  {
   "cell_type": "code",
   "execution_count": null,
   "metadata": {},
   "outputs": [],
   "source": []
  },
  {
   "cell_type": "raw",
   "metadata": {},
   "source": []
  }
 ],
 "metadata": {
  "kernelspec": {
   "display_name": "Python 3",
   "language": "python",
   "name": "python3"
  },
  "language_info": {
   "codemirror_mode": {
    "name": "ipython",
    "version": 3
   },
   "file_extension": ".py",
   "mimetype": "text/x-python",
   "name": "python",
   "nbconvert_exporter": "python",
   "pygments_lexer": "ipython3",
   "version": "3.6.6"
  }
 },
 "nbformat": 4,
 "nbformat_minor": 2
}
