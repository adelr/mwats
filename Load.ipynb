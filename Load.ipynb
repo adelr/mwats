{
 "cells": [
  {
   "cell_type": "markdown",
   "metadata": {},
   "source": [
    "<h1 style=\"font-family:Impact,Arial;font-size:50px\">Load</h1>\n",
    "<p> This code loads the raw data from the VAST pipeline for the MWATS survey and adds additional columns that are needed for the analysis. These are:\n",
    "    \n",
    "    1.) Image pointing centre (for each flux measurement).\n",
    "    2.) Distance from the pointing centre for each flux measurement (in degrees). \n",
    "    3.) Image gain. The mulitplicative factor that has been applied to the image to give the raw_peak_flux value. "
   ]
  },
  {
   "cell_type": "code",
   "execution_count": 1,
   "metadata": {},
   "outputs": [],
   "source": [
    "import math\n",
    "import dask.dataframe as dd\n",
    "import pandas as pd\n",
    "import numpy as np"
   ]
  },
  {
   "cell_type": "code",
   "execution_count": 2,
   "metadata": {},
   "outputs": [],
   "source": [
    "def vectorized_distance_on_unit_sphere(df):\n",
    "    degrees_to_radians = np.pi/180.0\n",
    "    phi1 = df.ra*degrees_to_radians\n",
    "    phi2 = df.im_ra*degrees_to_radians\n",
    "\n",
    "    theta1 = df.dec*degrees_to_radians\n",
    "    theta2 = df.im_dec*degrees_to_radians\n",
    "    \n",
    "    cosine = (np.cos(phi1)*np.cos(phi2)*np.cos(theta1 - theta2) +\n",
    "           np.sin(phi1)*np.sin(phi2))\n",
    "    dist_from_centre = np.arccos(cosine)\n",
    "    return (dist_from_centre/3.142)*180"
   ]
  },
  {
   "cell_type": "markdown",
   "metadata": {},
   "source": [
    "## Load the data"
   ]
  },
  {
   "cell_type": "code",
   "execution_count": 3,
   "metadata": {},
   "outputs": [
    {
     "name": "stdout",
     "output_type": "stream",
     "text": [
      "CPU times: user 25.9 s, sys: 18.9 s, total: 44.8 s\n",
      "Wall time: 51.8 s\n"
     ]
    }
   ],
   "source": [
    "%%time\n",
    "# Load the raw data file. \n",
    "raw_data = dd.read_parquet('mwats_27_sept_full.parq').compute()\n",
    "raw_data.drop(columns=['fit', 'blind_detection', 'polarisation', 'band', 'image_id', 'extname', 'cube_id', 'good_fit','fit_flags', 'flux_gain', 'pbcorr', 'peak_pixel'], axis=1, inplace=True)\n",
    "raw_data['raw_peak_flux'] = raw_data['raw_peak_flux']*(1.0/1000.0) # Conversion to Jy\n",
    "raw_data['datetime'] = pd.to_datetime(raw_data.time)"
   ]
  },
  {
   "cell_type": "markdown",
   "metadata": {},
   "source": [
    "## Load the data file containing the locations of the image image-centres "
   ]
  },
  {
   "cell_type": "code",
   "execution_count": 4,
   "metadata": {},
   "outputs": [],
   "source": [
    "pointing = pd.read_table('pointing_centres.txt', ',')\n",
    "pointing['Image'] = pointing['Image'].str.strip()"
   ]
  },
  {
   "cell_type": "markdown",
   "metadata": {},
   "source": [
    "## Merge the image centres data file"
   ]
  },
  {
   "cell_type": "code",
   "execution_count": 5,
   "metadata": {},
   "outputs": [
    {
     "name": "stdout",
     "output_type": "stream",
     "text": [
      "CPU times: user 31 s, sys: 41.3 s, total: 1min 12s\n",
      "Wall time: 1min 19s\n"
     ]
    }
   ],
   "source": [
    "%%time\n",
    "raw_data = pd.merge(raw_data, pointing, left_on='cube_name', right_on='Image')\n",
    "raw_data.rename(columns = {'RA':'im_ra'}, inplace = True) # Rename the columns\n",
    "raw_data.rename(columns = {'DEC':'im_dec'}, inplace = True)\n",
    "raw_data.drop(columns=['cube_name'], axis=1, inplace=True) # Get rid of the \"cube_name\" column as we now have \"Image\""
   ]
  },
  {
   "cell_type": "markdown",
   "metadata": {},
   "source": [
    "## Calculate the distance between the source and the image centre ( then create column)"
   ]
  },
  {
   "cell_type": "code",
   "execution_count": 6,
   "metadata": {},
   "outputs": [
    {
     "name": "stdout",
     "output_type": "stream",
     "text": [
      "CPU times: user 707 ms, sys: 776 ms, total: 1.48 s\n",
      "Wall time: 1.51 s\n"
     ]
    }
   ],
   "source": [
    "%%time\n",
    "raw_data['distance'] = vectorized_distance_on_unit_sphere(raw_data)"
   ]
  },
  {
   "cell_type": "markdown",
   "metadata": {},
   "source": [
    "## Add in the gains to the data file"
   ]
  },
  {
   "cell_type": "code",
   "execution_count": 7,
   "metadata": {},
   "outputs": [],
   "source": [
    "gains = pd.read_table('all_gains.txt', ',')\n",
    "raw_data = pd.merge(raw_data, gains, left_on='Image', right_on='Image')"
   ]
  },
  {
   "cell_type": "markdown",
   "metadata": {},
   "source": [
    "## Save the reduced data file"
   ]
  },
  {
   "cell_type": "code",
   "execution_count": 8,
   "metadata": {},
   "outputs": [],
   "source": [
    "raw_data.to_feather('mwats_raw_data.fth')"
   ]
  }
 ],
 "metadata": {
  "kernelspec": {
   "display_name": "Python 3",
   "language": "python",
   "name": "python3"
  },
  "language_info": {
   "codemirror_mode": {
    "name": "ipython",
    "version": 3
   },
   "file_extension": ".py",
   "mimetype": "text/x-python",
   "name": "python",
   "nbconvert_exporter": "python",
   "pygments_lexer": "ipython3",
   "version": "3.6.6"
  }
 },
 "nbformat": 4,
 "nbformat_minor": 2
}
